{
 "cells": [
  {
   "cell_type": "code",
   "execution_count": 10,
   "id": "b688bf9c-6574-42c0-83b6-de8b95acb599",
   "metadata": {},
   "outputs": [],
   "source": [
    "import random"
   ]
  },
  {
   "cell_type": "code",
   "execution_count": 15,
   "id": "3b1d7b56-2bfb-48f8-82af-40c0be95f96e",
   "metadata": {},
   "outputs": [
    {
     "data": {
      "text/plain": [
       "'Roll No: 102103817'"
      ]
     },
     "execution_count": 15,
     "metadata": {},
     "output_type": "execute_result"
    }
   ],
   "source": [
    "rollno = '102103817' # @param {type: 'string'}\n",
    "f'Roll No: {rollno}'"
   ]
  },
  {
   "cell_type": "code",
   "execution_count": 24,
   "id": "de16bbf4-7d4a-4f98-a8fe-c16055f6293c",
   "metadata": {},
   "outputs": [],
   "source": [
    "DB='statements.txt'\n",
    "ROLLNOS='rollnos.txt'\n",
    "N=75\n",
    "SEED=0x70b3f08e\n",
    "ASSN=f'a01-{rollno}.csv'\n",
    "LSEP='\\n'\n",
    "FSEP='\\t'"
   ]
  },
  {
   "cell_type": "code",
   "execution_count": 20,
   "id": "8f1d6f12-37bf-4128-ada8-557cb3d034ae",
   "metadata": {},
   "outputs": [],
   "source": [
    "with open(DB, 'r') as F :\n",
    "    rawData = [l.rstrip('\\n') for l in F.readlines()]\n",
    "with open(ROLLNOS, 'r') as F :\n",
    "    rollnosData = [l.rstrip('\\n') for l in F.readlines()]\n",
    "rollnosData.sort()\n",
    "rollnoIndex = rollnosData.index(rollno)"
   ]
  },
  {
   "cell_type": "code",
   "execution_count": 22,
   "id": "712e3656-d39b-4bc6-954b-9ac28ab52883",
   "metadata": {},
   "outputs": [
    {
     "name": "stdout",
     "output_type": "stream",
     "text": [
      "seed: 294272148\n"
     ]
    }
   ],
   "source": [
    "random.seed(SEED)\n",
    "bytes = random.randbytes(4*len(rollnosData))\n",
    "i=rollnoIndex\n",
    "seed = int.from_bytes(bytes[4*i:4*(i+1)], signed=False)\n",
    "print(f'seed: {seed}')\n",
    "random.seed(seed)"
   ]
  },
  {
   "cell_type": "code",
   "execution_count": 27,
   "id": "9a6f0fcd-5889-4d04-bb4a-f4d48aa8a153",
   "metadata": {},
   "outputs": [],
   "source": [
    "assn = LSEP.join([\n",
    "    FSEP.join([str(i+1), rawData[j], ''])\n",
    "    for (i,j) in enumerate(random.sample(range(len(rawData)),N))\n",
    "])\n",
    "assnHeader = FSEP.join(['S.No.','Statement','Predicate'])\n",
    "with open(ASSN, 'w') as F :\n",
    "    F.write(assnHeader)\n",
    "    F.write(LSEP)\n",
    "    F.write(assn)"
   ]
  }
 ],
 "metadata": {
  "kernelspec": {
   "display_name": "Python 3 (ipykernel)",
   "language": "python",
   "name": "python3"
  },
  "language_info": {
   "codemirror_mode": {
    "name": "ipython",
    "version": 3
   },
   "file_extension": ".py",
   "mimetype": "text/x-python",
   "name": "python",
   "nbconvert_exporter": "python",
   "pygments_lexer": "ipython3",
   "version": "3.11.5"
  }
 },
 "nbformat": 4,
 "nbformat_minor": 5
}
